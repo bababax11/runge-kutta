{
  "nbformat": 4,
  "nbformat_minor": 0,
  "metadata": {
    "colab": {
      "name": "鳥の群れシミュレーション.ipynb",
      "provenance": []
    },
    "kernelspec": {
      "name": "python3",
      "display_name": "Python 3"
    }
  },
  "cells": [
    {
      "cell_type": "code",
      "metadata": {
        "id": "QJa0oPCKVA8a",
        "colab_type": "code",
        "colab": {}
      },
      "source": [
        "import numpy as np\n",
        "import matplotlib\n",
        "import matplotlib.pyplot as plt\n",
        "import matplotlib.animation as animation\n",
        "from tqdm import tqdm, trange\n",
        "FILE_PATH = 'drive/My Drive/'"
      ],
      "execution_count": 0,
      "outputs": []
    },
    {
      "cell_type": "code",
      "metadata": {
        "id": "SJHnYvl9VJPx",
        "colab_type": "code",
        "colab": {}
      },
      "source": [
        "with open(FILE_PATH + 'result.txt') as f:\n",
        "    l_strip = [s.strip(' \\n│┌┐└┘') for s in f.readlines() if s.strip(' \\n│┌┐└┘') != '' ]"
      ],
      "execution_count": 0,
      "outputs": []
    },
    {
      "cell_type": "code",
      "metadata": {
        "colab_type": "code",
        "id": "aRRMk7C1l5Zg",
        "colab": {}
      },
      "source": [
        "larr = np.array(list(map(float, l_strip)))"
      ],
      "execution_count": 0,
      "outputs": []
    },
    {
      "cell_type": "code",
      "metadata": {
        "id": "ngJ1yl3vXxyc",
        "colab_type": "code",
        "colab": {}
      },
      "source": [
        "l_arr = larr.reshape(-1, 40)"
      ],
      "execution_count": 0,
      "outputs": []
    },
    {
      "cell_type": "code",
      "metadata": {
        "id": "kx2mDbeMXQCL",
        "colab_type": "code",
        "outputId": "eab5e103-bd7a-4fb9-c39e-89ee3dae8e3e",
        "colab": {
          "base_uri": "https://localhost:8080/",
          "height": 35
        }
      },
      "source": [
        "l_arr.shape"
      ],
      "execution_count": 32,
      "outputs": [
        {
          "output_type": "execute_result",
          "data": {
            "text/plain": [
              "(50000, 40)"
            ]
          },
          "metadata": {
            "tags": []
          },
          "execution_count": 32
        }
      ]
    },
    {
      "cell_type": "code",
      "metadata": {
        "id": "bnra2i3bZ1Kb",
        "colab_type": "code",
        "outputId": "cf9c5a86-ec77-4fa4-8909-50ef5870423a",
        "colab": {
          "base_uri": "https://localhost:8080/",
          "height": 282
        }
      },
      "source": [
        "def create_movie(show_fig=True, save_mp4=True):\n",
        "    fig = plt.figure()\n",
        "    ax = []\n",
        "    ims = []\n",
        "    W = H = 1\n",
        "    N_BIRD = 10\n",
        "\n",
        "    for i in range(W * H):\n",
        "        ax.append(fig.add_subplot(W,H,i+1))\n",
        "    \n",
        "    for t in trange(500): #l_arr.shape[1]):\n",
        "        # try:\n",
        "        im = ax[0].scatter(l_arr[t, :N_BIRD*2:2], l_arr[t, 1:N_BIRD*2:2], c=\"b\")\n",
        "        # except:\n",
        "        #     print(t)\n",
        "        #     print(l_arr[t])\n",
        "        #     exit()\n",
        "        ims.append((im,))\n",
        "\n",
        "    ani = animation.ArtistAnimation(fig, ims, interval=100)\n",
        "    if show_fig:\n",
        "        plt.show()\n",
        "    if save_mp4:\n",
        "        # mp4での保存にはffpmegのパスが通っている必要がある\n",
        "        ani.save(FILE_PATH + \"plot.mp4\", writer=\"ffmpeg\", dpi=300)\n",
        "create_movie()"
      ],
      "execution_count": 33,
      "outputs": [
        {
          "output_type": "stream",
          "text": [
            "100%|██████████| 500/500 [00:01<00:00, 250.94it/s]\n"
          ],
          "name": "stderr"
        },
        {
          "output_type": "display_data",
          "data": {
            "image/png": "[encoded data removed]",
            "text/plain": [
              "<Figure size 432x288 with 1 Axes>"
            ]
          },
          "metadata": {
            "tags": [],
            "needs_background": "light"
          }
        }
      ]
    },
    {
      "cell_type": "code",
      "metadata": {
        "id": "BPhu8bAMZWaJ",
        "colab_type": "code",
        "colab": {}
      },
      "source": [
        ""
      ],
      "execution_count": 0,
      "outputs": []
    }
  ]
}